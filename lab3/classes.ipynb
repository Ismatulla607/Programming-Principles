{
 "cells": [
  {
   "cell_type": "code",
   "execution_count": 2,
   "metadata": {},
   "outputs": [
    {
     "name": "stdout",
     "output_type": "stream",
     "text": [
      "Shape area: 0\n",
      "Square area: 16\n"
     ]
    }
   ],
   "source": [
    "\n",
    "class Shape:\n",
    "    def __init__(self, a=0, b=0):\n",
    "        self.length = a\n",
    "        self.width = b\n",
    "    \n",
    "    def area(self):\n",
    "        return self.length * self.width\n",
    "\n",
    "class Square(Shape):\n",
    "    def __init__(self, a):\n",
    "        super().__init__(a, a)\n",
    "\n",
    "shape = Shape()\n",
    "print(\"Shape area:\", shape.area())\n",
    "\n",
    "square = Square(4)\n",
    "print(\"Square area:\", square.area())"
   ]
  },
  {
   "cell_type": "code",
   "execution_count": 4,
   "metadata": {},
   "outputs": [
    {
     "name": "stdout",
     "output_type": "stream",
     "text": [
      "Rectangle area: 10\n"
     ]
    }
   ],
   "source": [
    "class Rectangle(Shape):\n",
    "    def __init__(self, l, w):\n",
    "        super().__init__(l, w)\n",
    "\n",
    "rectangle = Rectangle(2, 5)\n",
    "print(\"Rectangle area:\", rectangle.area())"
   ]
  },
  {
   "cell_type": "code",
   "execution_count": 5,
   "metadata": {},
   "outputs": [
    {
     "name": "stdout",
     "output_type": "stream",
     "text": [
      "Point(2, 3)\n",
      "Point(1, 3)\n",
      "Distance between points: 8.94427190999916\n"
     ]
    }
   ],
   "source": [
    "import math\n",
    "\n",
    "class Points:\n",
    "    def __init__(self, x, y):\n",
    "        self.x = x\n",
    "        self.y = y\n",
    "\n",
    "    def show(self):\n",
    "        print(f\"Point({self.x}, {self.y})\")\n",
    "    \n",
    "    def move(self, gox, goy):\n",
    "        self.x = gox\n",
    "        self.y = goy\n",
    "\n",
    "    def dist(self, secpoint):\n",
    "        return math.sqrt((secpoint.x - self.x)**2 + (secpoint.y - self.y)**2)\n",
    "\n",
    "point1 = Points(2, 3)\n",
    "point2 = Points(9, 7)\n",
    "\n",
    "point1.show()\n",
    "point1.move(1, 3)\n",
    "point1.show()\n",
    "\n",
    "print(\"Distance between points:\", point1.dist(point2))"
   ]
  },
  {
   "cell_type": "code",
   "execution_count": 6,
   "metadata": {},
   "outputs": [
    {
     "name": "stdout",
     "output_type": "stream",
     "text": [
      "You have 1000000$\n",
      "You have 1$\n",
      "Withdrawals may not exceed the available balance\n"
     ]
    }
   ],
   "source": [
    "class Account:\n",
    "    def __init__(self, owner, balance=0):\n",
    "        self.owner = owner\n",
    "        self.balance = balance\n",
    "\n",
    "    def deposit(self, cashin):\n",
    "        self.balance += cashin\n",
    "        print(f\"You have {self.balance}$\")\n",
    "\n",
    "    def withdrawal(self, cashout):\n",
    "        if self.balance >= cashout:\n",
    "            self.balance -= cashout\n",
    "            print(f\"You have {self.balance}$\")\n",
    "        else: \n",
    "            print(\"Withdrawals may not exceed the available balance\")\n",
    "\n",
    "account = Account(\"Beka\", 0)\n",
    "account.deposit(1000000)\n",
    "account.withdrawal(999999)\n",
    "account.withdrawal(2)"
   ]
  },
  {
   "cell_type": "code",
   "execution_count": 10,
   "metadata": {},
   "outputs": [
    {
     "name": "stdout",
     "output_type": "stream",
     "text": [
      "Prime numbers: [2, 3, 5, 7, 11, 13, 17, 19]\n"
     ]
    }
   ],
   "source": [
    "import math\n",
    "\n",
    "def prime(n):\n",
    "    if n < 2:\n",
    "        return False\n",
    "    for i in range(2, int(math.sqrt(n)) + 1):\n",
    "        if n % i == 0:\n",
    "            return False\n",
    "    return True\n",
    "\n",
    "lst = list(range(1, 21))\n",
    "prlst = list(filter(lambda x: prime(x), lst))\n",
    "\n",
    "print(\"Prime numbers:\", prlst)"
   ]
  }
 ],
 "metadata": {
  "kernelspec": {
   "display_name": "base",
   "language": "python",
   "name": "python3"
  },
  "language_info": {
   "codemirror_mode": {
    "name": "ipython",
    "version": 3
   },
   "file_extension": ".py",
   "mimetype": "text/x-python",
   "name": "python",
   "nbconvert_exporter": "python",
   "pygments_lexer": "ipython3",
   "version": "3.12.7"
  }
 },
 "nbformat": 4,
 "nbformat_minor": 2
}
