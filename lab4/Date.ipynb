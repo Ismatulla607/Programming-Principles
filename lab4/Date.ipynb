{
 "cells": [
  {
   "cell_type": "markdown",
   "metadata": {},
   "source": [
    "Task 1"
   ]
  },
  {
   "cell_type": "code",
   "execution_count": 7,
   "metadata": {},
   "outputs": [
    {
     "name": "stdout",
     "output_type": "stream",
     "text": [
      "Yesterday 2025-02-18\n",
      "Today 2025-02-19\n",
      "Tomorrow 2025-02-20\n"
     ]
    }
   ],
   "source": [
    "from datetime import datetime, timedelta\n",
    "\n",
    "today=datetime.today()\n",
    "yesterday= today - timedelta(days=1)\n",
    "tomorrow= today + timedelta(days=1)\n",
    "print(\"Yesterday\",yesterday.strftime(\"%Y-%m-%d\") )\n",
    "print(\"Today\", today.strftime(\"%Y-%m-%d\"))\n",
    "print(\"Tomorrow\", tomorrow.strftime(\"%Y-%m-%d\"))"
   ]
  },
  {
   "cell_type": "markdown",
   "metadata": {},
   "source": [
    "Task 2"
   ]
  },
  {
   "cell_type": "code",
   "execution_count": 8,
   "metadata": {},
   "outputs": [
    {
     "name": "stdout",
     "output_type": "stream",
     "text": [
      "five days ago  2025-02-14\n"
     ]
    }
   ],
   "source": [
    "from datetime import datetime, timedelta\n",
    "\n",
    "noww_date = datetime.now()\n",
    "new_date = noww_date - timedelta(days=5)\n",
    "print(\"five days ago \", new_date.strftime(\"%Y-%m-%d\"))"
   ]
  },
  {
   "cell_type": "markdown",
   "metadata": {},
   "source": [
    "Task 3"
   ]
  },
  {
   "cell_type": "code",
   "execution_count": 6,
   "metadata": {},
   "outputs": [
    {
     "name": "stdout",
     "output_type": "stream",
     "text": [
      "time when i do this lab  16-30-53\n"
     ]
    }
   ],
   "source": [
    "from datetime import datetime, timedelta\n",
    "\n",
    "now_time = datetime.now()\n",
    "print(\"time when i do this lab \", new_date.strftime(\"%H-%M-%S\"))"
   ]
  },
  {
   "cell_type": "markdown",
   "metadata": {},
   "source": [
    "Task 4"
   ]
  },
  {
   "cell_type": "code",
   "execution_count": 14,
   "metadata": {},
   "outputs": [
    {
     "name": "stdout",
     "output_type": "stream",
     "text": [
      "31622519.0\n"
     ]
    }
   ],
   "source": [
    "from datetime import datetime, timedelta\n",
    "\n",
    "date_1 = datetime(2025, 2, 19, 17, 10, 59)\n",
    "date_2 = datetime(2024, 2, 19, 17, 9, 00)\n",
    "\n",
    "raznica = (date_1 - date_2).total_seconds()\n",
    "print (raznica)"
   ]
  }
 ],
 "metadata": {
  "kernelspec": {
   "display_name": "base",
   "language": "python",
   "name": "python3"
  },
  "language_info": {
   "codemirror_mode": {
    "name": "ipython",
    "version": 3
   },
   "file_extension": ".py",
   "mimetype": "text/x-python",
   "name": "python",
   "nbconvert_exporter": "python",
   "pygments_lexer": "ipython3",
   "version": "3.12.7"
  }
 },
 "nbformat": 4,
 "nbformat_minor": 2
}
