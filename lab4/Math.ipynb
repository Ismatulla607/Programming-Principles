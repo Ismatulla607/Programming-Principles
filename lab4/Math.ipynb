{
 "cells": [
  {
   "cell_type": "markdown",
   "metadata": {},
   "source": [
    "Task 1"
   ]
  },
  {
   "cell_type": "code",
   "execution_count": 15,
   "metadata": {},
   "outputs": [
    {
     "name": "stdout",
     "output_type": "stream",
     "text": [
      "0.2617993877991494\n"
     ]
    }
   ],
   "source": [
    "import math\n",
    "\n",
    "def rad():\n",
    "    #deg = int(input(\"Input degree:\"))\n",
    "    deg=15\n",
    "    return math.radians(deg)\n",
    "print(rad())"
   ]
  },
  {
   "cell_type": "markdown",
   "metadata": {},
   "source": [
    "Task 2"
   ]
  },
  {
   "cell_type": "code",
   "execution_count": 25,
   "metadata": {},
   "outputs": [
    {
     "name": "stdout",
     "output_type": "stream",
     "text": [
      "Expected Output: 27.5\n"
     ]
    }
   ],
   "source": [
    "import math\n",
    "def trap():\n",
    "    #h = int(input(\"Height: \"))\n",
    "    h = 5\n",
    "    #a_1 = int(input(\"Base, first value: \"))\n",
    "    a_1 = 5\n",
    "    #a_2 = int(input(\"Base, second value: \"))\n",
    "    a_2 = 6\n",
    "    return (f\"Expected Output: {h * (a_1 + a_2)/2}\")\n",
    "print(trap())"
   ]
  },
  {
   "cell_type": "markdown",
   "metadata": {},
   "source": [
    "Task 3"
   ]
  },
  {
   "cell_type": "code",
   "execution_count": 24,
   "metadata": {},
   "outputs": [
    {
     "name": "stdout",
     "output_type": "stream",
     "text": [
      "The area of the polygon is: 625\n"
     ]
    }
   ],
   "source": [
    "import math\n",
    "def reg(num, a):\n",
    "    s = (a/(2*math.tan(math.pi/num))) #Апофема\n",
    "    return f\"The area of the polygon is: {int((num*a*s)/2)}\"\n",
    "print (reg(4, 25))"
   ]
  },
  {
   "cell_type": "markdown",
   "metadata": {},
   "source": [
    "Task 4"
   ]
  },
  {
   "cell_type": "code",
   "execution_count": 23,
   "metadata": {},
   "outputs": [
    {
     "name": "stdout",
     "output_type": "stream",
     "text": [
      "Expected Output: 30.0\n"
     ]
    }
   ],
   "source": [
    "import math\n",
    "def parall(a, h):\n",
    "    return f\"Expected Output: {float(a*h)}\"\n",
    "print(parall(5, 6))"
   ]
  }
 ],
 "metadata": {
  "kernelspec": {
   "display_name": "base",
   "language": "python",
   "name": "python3"
  },
  "language_info": {
   "codemirror_mode": {
    "name": "ipython",
    "version": 3
   },
   "file_extension": ".py",
   "mimetype": "text/x-python",
   "name": "python",
   "nbconvert_exporter": "python",
   "pygments_lexer": "ipython3",
   "version": "3.12.7"
  }
 },
 "nbformat": 4,
 "nbformat_minor": 2
}
