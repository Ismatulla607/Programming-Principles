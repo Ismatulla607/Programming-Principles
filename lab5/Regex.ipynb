{
 "cells": [
  {
   "cell_type": "markdown",
   "metadata": {},
   "source": [
    "Task 1"
   ]
  },
  {
   "cell_type": "code",
   "execution_count": 1,
   "metadata": {},
   "outputs": [
    {
     "name": "stdout",
     "output_type": "stream",
     "text": [
      " a mathes\n",
      " ab mathes\n",
      " abb mathes\n",
      " ac doesnt match\n",
      " b doesnt match\n",
      " aBBB doesnt match\n",
      " aBbB doesnt match\n"
     ]
    }
   ],
   "source": [
    "\n",
    "import re\n",
    "\n",
    "pattern = r'ab*'\n",
    "strings = [\"a\", \"ab\", \"abb\", \"ac\", \"b\", \"aBBB\", \"aBbB\"]\n",
    "\n",
    "for string in strings:\n",
    "    if re.fullmatch(pattern, string):\n",
    "        print(f' {string} mathes')\n",
    "    else:\n",
    "        print(f' {string} doesnt match')\n"
   ]
  },
  {
   "cell_type": "markdown",
   "metadata": {},
   "source": [
    "Task 2"
   ]
  },
  {
   "cell_type": "code",
   "execution_count": 17,
   "metadata": {},
   "outputs": [
    {
     "name": "stdout",
     "output_type": "stream",
     "text": [
      " a doesnt match\n",
      " ab doesnt match\n",
      " abb mathes\n",
      " ac doesnt match\n",
      " b doesnt match\n",
      " aBBB doesnt match\n",
      " aBbB doesnt match\n"
     ]
    }
   ],
   "source": [
    "import re\n",
    "\n",
    "pattern = r\"ab{2,3}\"\n",
    "strings = [\"a\", \"ab\", \"abb\", \"ac\", \"b\", \"aBBB\", \"aBbB\"]\n",
    "for string in strings:\n",
    "    if re.fullmatch(pattern, string):\n",
    "        print(f' {string} mathes')\n",
    "    else:\n",
    "        print(f' {string} doesnt match')"
   ]
  },
  {
   "cell_type": "markdown",
   "metadata": {},
   "source": [
    "Task 3"
   ]
  },
  {
   "cell_type": "code",
   "execution_count": 16,
   "metadata": {},
   "outputs": [
    {
     "name": "stdout",
     "output_type": "stream",
     "text": [
      "lapsha_chinaa\n",
      "b_a\n"
     ]
    }
   ],
   "source": [
    "import re\n",
    "pattern=r\"[a-z]+_[a-z]+\"\n",
    "t_strings=[\"Goat_Ronaldo\",\"lapsha_chinaa\",\"abbo\",\"abb__b\",\"b_a\"]\n",
    "for string in t_strings:\n",
    "    if re.fullmatch(pattern,string ):\n",
    "        print(string)"
   ]
  },
  {
   "cell_type": "markdown",
   "metadata": {},
   "source": [
    "Task 4"
   ]
  },
  {
   "cell_type": "code",
   "execution_count": 15,
   "metadata": {},
   "outputs": [
    {
     "name": "stdout",
     "output_type": "stream",
     "text": [
      "Goat_Ronaldo\n"
     ]
    }
   ],
   "source": [
    "import re\n",
    "pattern=r\"[A-Z][a-z]+\"\n",
    "t_strings=[\"Goat_Ronaldo\",\"lapsha_chinaa\",\"abbo\",\"abb__b\",\"b_a\"]\n",
    "for string in t_strings:\n",
    "    if re.search(pattern,string ):\n",
    "        print(string)"
   ]
  },
  {
   "cell_type": "markdown",
   "metadata": {},
   "source": [
    "Task 5"
   ]
  },
  {
   "cell_type": "code",
   "execution_count": null,
   "metadata": {},
   "outputs": [
    {
     "name": "stdout",
     "output_type": "stream",
     "text": [
      "abitu_renb\n",
      "abb__b\n"
     ]
    }
   ],
   "source": [
    "import re\n",
    "pattern=r\"a+.+b$\"\n",
    "t_strings=[\"Goat_Ronaldo\",\"lapsha_chinaa\",\"abbo\",\"abb__b\",\"b_a\"]\n",
    "for string in t_strings:\n",
    "    if re.search(pattern,string ):\n",
    "        print(string)"
   ]
  },
  {
   "cell_type": "markdown",
   "metadata": {},
   "source": [
    "Task 6"
   ]
  },
  {
   "cell_type": "code",
   "execution_count": 12,
   "metadata": {},
   "outputs": [
    {
     "name": "stdout",
     "output_type": "stream",
     "text": [
      "Goat_Ronaldo::::\n",
      "abitu:rent\n",
      "ab:bo\n",
      "abb__b\n",
      "b_a\n"
     ]
    }
   ],
   "source": [
    "import re\n",
    "t_strings=[\"Goat_Ronaldo   .\",\"abitu,rent\",\"ab bo\",\"abb__b\",\"b_a\"]\n",
    "for string in t_strings:\n",
    "    x= re.sub(\"[ ,.]\",\":\",string)\n",
    "    print(x)"
   ]
  },
  {
   "cell_type": "markdown",
   "metadata": {},
   "source": [
    "Task 7"
   ]
  },
  {
   "cell_type": "code",
   "execution_count": 10,
   "metadata": {},
   "outputs": [
    {
     "name": "stdout",
     "output_type": "stream",
     "text": [
      "whatGoal\n"
     ]
    }
   ],
   "source": [
    "import re\n",
    "snake_str=\"what_goal\"\n",
    "camel_str=re.sub(r'_([a-z])', lambda match: match.group(1).upper() , snake_str)\n",
    "print(camel_str)"
   ]
  },
  {
   "cell_type": "markdown",
   "metadata": {},
   "source": [
    "Task 8"
   ]
  },
  {
   "cell_type": "code",
   "execution_count": 11,
   "metadata": {},
   "outputs": [
    {
     "name": "stdout",
     "output_type": "stream",
     "text": [
      "['', 'Hello', 'World', 'Support']\n"
     ]
    }
   ],
   "source": [
    "import re\n",
    "\n",
    "text = \"HelloWorldSupport\"\n",
    "result = re.split(r'(?=[A-Z])', text)\n",
    "\n",
    "print(result)"
   ]
  },
  {
   "cell_type": "markdown",
   "metadata": {},
   "source": [
    "Task 9"
   ]
  },
  {
   "cell_type": "code",
   "execution_count": 18,
   "metadata": {},
   "outputs": [
    {
     "name": "stdout",
     "output_type": "stream",
     "text": [
      "Biggest Mistake In My Life\n"
     ]
    }
   ],
   "source": [
    "import re\n",
    "text=\"BiggestMistakeInMyLife\"\n",
    "res=re.sub(r'(?<!^)(?=[A-Z])',' ', text)\n",
    "\n",
    "print(res)"
   ]
  },
  {
   "cell_type": "markdown",
   "metadata": {},
   "source": [
    "Task 10"
   ]
  },
  {
   "cell_type": "code",
   "execution_count": 19,
   "metadata": {},
   "outputs": [
    {
     "name": "stdout",
     "output_type": "stream",
     "text": [
      "probel_probel_probel\n"
     ]
    }
   ],
   "source": [
    "import re\n",
    "\n",
    "def camel_to_snake(camel_str):\n",
    "    return re.sub(r'(?<!^)(?=[A-Z])', '_', camel_str).lower()\n",
    "\n",
    "camel_str = \"ProbelProbelProbel\"\n",
    "snake_str = camel_to_snake(camel_str)\n",
    "print(snake_str)"
   ]
  }
 ],
 "metadata": {
  "kernelspec": {
   "display_name": "base",
   "language": "python",
   "name": "python3"
  },
  "language_info": {
   "codemirror_mode": {
    "name": "ipython",
    "version": 3
   },
   "file_extension": ".py",
   "mimetype": "text/x-python",
   "name": "python",
   "nbconvert_exporter": "python",
   "pygments_lexer": "ipython3",
   "version": "3.12.7"
  }
 },
 "nbformat": 4,
 "nbformat_minor": 2
}
