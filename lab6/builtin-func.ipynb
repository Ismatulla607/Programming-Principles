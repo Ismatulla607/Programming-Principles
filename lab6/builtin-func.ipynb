{
 "cells": [
  {
   "cell_type": "markdown",
   "metadata": {},
   "source": [
    "Task 1"
   ]
  },
  {
   "cell_type": "code",
   "execution_count": 1,
   "metadata": {},
   "outputs": [
    {
     "name": "stdout",
     "output_type": "stream",
     "text": [
      "3220\n"
     ]
    }
   ],
   "source": [
    "from functools import reduce\n",
    "def multiply_list(numbers):\n",
    "    return reduce(lambda x,y:x*y,numbers)\n",
    "nums=[1,23,4,5,7]\n",
    "x=multiply_list(nums)\n",
    "print(x)"
   ]
  },
  {
   "cell_type": "markdown",
   "metadata": {},
   "source": [
    "Task 2"
   ]
  },
  {
   "cell_type": "code",
   "execution_count": 2,
   "metadata": {},
   "outputs": [
    {
     "name": "stdout",
     "output_type": "stream",
     "text": [
      "(3, 7)\n"
     ]
    }
   ],
   "source": [
    "def count(s):\n",
    "    upper=sum(1 for c in s if c.isupper())\n",
    "    lower=sum(1 for c in s if c.islower())\n",
    "    return upper,lower\n",
    "str=\"hello woRLD\"\n",
    "print(count(str))"
   ]
  },
  {
   "cell_type": "markdown",
   "metadata": {},
   "source": [
    "Task 3"
   ]
  },
  {
   "cell_type": "code",
   "execution_count": 5,
   "metadata": {},
   "outputs": [
    {
     "name": "stdout",
     "output_type": "stream",
     "text": [
      "abcdcba\n"
     ]
    }
   ],
   "source": [
    "def k(s):\n",
    "    l=s[::-1]\n",
    "    if s==l:\n",
    "        return l\n",
    "        \n",
    "str=\"abcdcba\"\n",
    "print(k(str))"
   ]
  },
  {
   "cell_type": "markdown",
   "metadata": {},
   "source": [
    "Task 4"
   ]
  },
  {
   "cell_type": "code",
   "execution_count": 19,
   "metadata": {},
   "outputs": [
    {
     "name": "stdout",
     "output_type": "stream",
     "text": [
      "Square root of 25100 after 2123 miliseconds is 158.42979517754858\n"
     ]
    }
   ],
   "source": [
    "import time\n",
    "import math\n",
    "\n",
    "def fun(number, delay):\n",
    "    \n",
    "    time.sleep(delay / 1000)\n",
    "\n",
    "    result = math.sqrt(number)\n",
    "    print(f\"Square root of {number} after {delay} miliseconds is {result}\")\n",
    "\n",
    "num = 25100\n",
    "#int(input())\n",
    "dela = 2123\n",
    "#int(input())\n",
    "fun(num, dela)\n",
    "\n",
    "\n",
    "\n"
   ]
  },
  {
   "cell_type": "markdown",
   "metadata": {},
   "source": [
    "Task 5"
   ]
  },
  {
   "cell_type": "code",
   "execution_count": 6,
   "metadata": {},
   "outputs": [
    {
     "name": "stdout",
     "output_type": "stream",
     "text": [
      "True\n"
     ]
    }
   ],
   "source": [
    "def true(tuples):\n",
    "    if all(tuples)==0:\n",
    "        return False\n",
    "    else:\n",
    "        return True\n",
    "t=(1,2,[1,2])\n",
    "print(true(t))"
   ]
  }
 ],
 "metadata": {
  "kernelspec": {
   "display_name": "base",
   "language": "python",
   "name": "python3"
  },
  "language_info": {
   "codemirror_mode": {
    "name": "ipython",
    "version": 3
   },
   "file_extension": ".py",
   "mimetype": "text/x-python",
   "name": "python",
   "nbconvert_exporter": "python",
   "pygments_lexer": "ipython3",
   "version": "3.12.7"
  }
 },
 "nbformat": 4,
 "nbformat_minor": 2
}
