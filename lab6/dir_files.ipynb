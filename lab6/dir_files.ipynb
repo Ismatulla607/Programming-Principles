{
 "cells": [
  {
   "cell_type": "markdown",
   "metadata": {},
   "source": [
    "Task 1"
   ]
  },
  {
   "cell_type": "code",
   "execution_count": 1,
   "metadata": {},
   "outputs": [
    {
     "name": "stdout",
     "output_type": "stream",
     "text": [
      "all items::  ['builtin-func.ipynb', 'dir_files.ipynb']\n",
      "directories::  []\n",
      "files ::  ['builtin-func.ipynb', 'dir_files.ipynb']\n"
     ]
    }
   ],
   "source": [
    "import os\n",
    "\n",
    "def list_content(path):\n",
    "    all_items = os.listdir(path)\n",
    "\n",
    "    directories = [item for item in all_items if os.path.isdir(os.path.join(path, item))]\n",
    "    files = [item for item in all_items if os.path.isfile(os.path.join(path, item))]\n",
    "\n",
    "    print(\"all items:: \", all_items)\n",
    "    print(\"directories:: \", directories)\n",
    "    print(\"files :: \", files)\n",
    "\n",
    "\n",
    "\n",
    "path = \".\"\n",
    "list_content(path)"
   ]
  },
  {
   "cell_type": "markdown",
   "metadata": {},
   "source": [
    "Task 2"
   ]
  },
  {
   "cell_type": "code",
   "execution_count": 2,
   "metadata": {},
   "outputs": [
    {
     "name": "stdout",
     "output_type": "stream",
     "text": [
      "Exist: True\n",
      "Readable: True\n",
      "Writable: True\n",
      "Executable: True\n"
     ]
    }
   ],
   "source": [
    "import os\n",
    "\n",
    "path = '.'\n",
    "\n",
    "print('Exist:', os.access(path, os.F_OK))\n",
    "print('Readable:', os.access(path, os.R_OK))\n",
    "print('Writable:', os.access(path, os.W_OK))\n",
    "print('Executable:', os.access(path, os.X_OK))"
   ]
  },
  {
   "cell_type": "markdown",
   "metadata": {},
   "source": [
    "Task3"
   ]
  },
  {
   "cell_type": "code",
   "execution_count": 3,
   "metadata": {},
   "outputs": [
    {
     "name": "stdout",
     "output_type": "stream",
     "text": [
      "Exist: False\n"
     ]
    }
   ],
   "source": [
    "import os\n",
    "\n",
    "path = '/Users/VSCODE'\n",
    "if os.access(path, os.F_OK):\n",
    "    filename = os.path.basename(path)\n",
    "    print(filename)\n",
    "else:\n",
    "    print('Exist:', os.access(path, os.F_OK))"
   ]
  },
  {
   "cell_type": "markdown",
   "metadata": {},
   "source": [
    "Task 4"
   ]
  },
  {
   "cell_type": "code",
   "execution_count": 14,
   "metadata": {},
   "outputs": [
    {
     "name": "stdout",
     "output_type": "stream",
     "text": [
      "file doesn t exist\n"
     ]
    }
   ],
   "source": [
    "import os\n",
    "filepath = '/Users/VSCODE'\n",
    "if os.path.exists(filepath):\n",
    "    with open(filepath, \"r\") as f:\n",
    "        line_count = sum(1 for _ in f)  \n",
    "    print(f'Count: {line_count}')\n",
    "else:\n",
    "    print(\"file doesn t exist\")"
   ]
  },
  {
   "cell_type": "markdown",
   "metadata": {},
   "source": [
    "Task 5"
   ]
  },
  {
   "cell_type": "code",
   "execution_count": 26,
   "metadata": {},
   "outputs": [
    {
     "name": "stdout",
     "output_type": "stream",
     "text": [
      "List written to file successfully.\n"
     ]
    }
   ],
   "source": [
    "def write_l(filename, data_list):\n",
    "    with open(filename, 'w') as file:\n",
    "        for item in data_list:\n",
    "            file.write(f\"{item}\\n\")\n",
    "\n",
    "data = [\"Ronaldo\", \"Messi\", \"Henry\", \"Antony\"]\n",
    "write_l(\"werwerwer.txt\", data)\n",
    "\n",
    "print(\"List written to file successfully.\")\n"
   ]
  },
  {
   "cell_type": "markdown",
   "metadata": {},
   "source": [
    "Task 6"
   ]
  },
  {
   "cell_type": "code",
   "execution_count": 19,
   "metadata": {},
   "outputs": [
    {
     "name": "stdout",
     "output_type": "stream",
     "text": [
      "text files (A-Z) created successfully.\n"
     ]
    }
   ],
   "source": [
    "import string\n",
    "\n",
    "def generate_text_files():\n",
    "    for letter in string.ascii_uppercase:\n",
    "        filename = f\"{letter}.txt\"\n",
    "        with open(filename, \"w\") as file:\n",
    "            file.write(f\"This is file {filename}\\n\")\n",
    "\n",
    "generate_text_files()\n",
    "print(\"text files (A-Z) created successfully.\")\n"
   ]
  },
  {
   "cell_type": "markdown",
   "metadata": {},
   "source": [
    "Task 7"
   ]
  },
  {
   "cell_type": "code",
   "execution_count": 27,
   "metadata": {},
   "outputs": [
    {
     "name": "stdout",
     "output_type": "stream",
     "text": [
      "File copied successfully.\n"
     ]
    }
   ],
   "source": [
    "def copy_file(source_file, destination_file):\n",
    "    with open(source_file, 'r') as src, open(destination_file, 'w') as dest:\n",
    "        dest.write(src.read())\n",
    "\n",
    "copy_file(\"werwerwer.txt\", \"copy.txt\")\n",
    "print(\"File copied successfully.\")\n"
   ]
  },
  {
   "cell_type": "markdown",
   "metadata": {},
   "source": [
    "task 8"
   ]
  },
  {
   "cell_type": "code",
   "execution_count": 24,
   "metadata": {},
   "outputs": [
    {
     "name": "stdout",
     "output_type": "stream",
     "text": [
      "File 'Z.txt' deleted successfully.\n"
     ]
    }
   ],
   "source": [
    "import os\n",
    "\n",
    "def delete_file(file_path):\n",
    "    if os.path.exists(file_path):\n",
    "        if os.access(file_path, os.W_OK):\n",
    "            os.remove(file_path)\n",
    "            print(f\"File '{file_path}' deleted successfully.\")\n",
    "        else:\n",
    "            print(f\"ERROR '{file_path}'.\")\n",
    "    else:\n",
    "        print(f\"File '{file_path}' does not exist.\")\n",
    "\n",
    "file_to_delete = \"Z.txt\"\n",
    "delete_file(file_to_delete)\n"
   ]
  }
 ],
 "metadata": {
  "kernelspec": {
   "display_name": "base",
   "language": "python",
   "name": "python3"
  },
  "language_info": {
   "codemirror_mode": {
    "name": "ipython",
    "version": 3
   },
   "file_extension": ".py",
   "mimetype": "text/x-python",
   "name": "python",
   "nbconvert_exporter": "python",
   "pygments_lexer": "ipython3",
   "version": "3.12.7"
  }
 },
 "nbformat": 4,
 "nbformat_minor": 2
}
